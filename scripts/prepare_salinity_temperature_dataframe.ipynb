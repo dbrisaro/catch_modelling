{
 "cells": [
  {
   "cell_type": "code",
   "execution_count": 1,
   "id": "d3ef814a",
   "metadata": {},
   "outputs": [
    {
     "name": "stderr",
     "output_type": "stream",
     "text": [
      "/home/jupyter-daniela/.conda/envs/peru_environment/lib/python3.13/site-packages/pyproj/network.py:59: UserWarning: pyproj unable to set PROJ database path.\n",
      "  _set_context_ca_bundle_path(ca_bundle_path)\n"
     ]
    }
   ],
   "source": [
    "import pandas as pd \n",
    "from pathlib import Path\n",
    "import matplotlib.pyplot as plt\n",
    "import numpy as np\n",
    "import geopandas as gpd\n",
    "from pyproj import datadir\n",
    "import rioxarray\n",
    "\n",
    "import xarray as xr\n",
    "datadir.set_data_dir(\"/home/jupyter-daniela/.conda/envs/peru_environment/share/proj\")\n",
    "\n"
   ]
  },
  {
   "cell_type": "code",
   "execution_count": 2,
   "id": "9baac778",
   "metadata": {},
   "outputs": [],
   "source": [
    "shapefile_peru = Path(\"/home/jupyter-daniela/suyana/geometries/areas_pesca_peru/areas_pesca_peru.shp\")\n",
    "base_path = Path(\"/home/jupyter-daniela/suyana/sources/hycom\")\n",
    "\n",
    "gdf_peru = gpd.read_file(shapefile_peru)"
   ]
  },
  {
   "cell_type": "code",
   "execution_count": 3,
   "id": "c047a92d",
   "metadata": {},
   "outputs": [],
   "source": [
    "\n",
    "mapa_regiones = {\n",
    "    'TUMBES': 'norte',\n",
    "    'PIURA': 'norte',\n",
    "    'LAMBAYEQUE': 'norte',\n",
    "    'LA LIBERTAD': 'centro',\n",
    "    'ANCASH': 'centro',\n",
    "    'LIMA': 'centro',\n",
    "    'ICA': 'centro',\n",
    "    'AREQUIPA': 'sur',\n",
    "    'MOQUEGUA': 'sur',\n",
    "    'TACNA': 'sur'\n",
    "}\n",
    "gdf_peru[\"region_macro\"] = gdf_peru[\"DPTO\"].map(mapa_regiones)"
   ]
  },
  {
   "cell_type": "code",
   "execution_count": 4,
   "id": "89d15df2",
   "metadata": {},
   "outputs": [],
   "source": [
    "\n",
    "registros = []\n",
    "\n",
    "for year_folder in sorted(base_path.glob(\"*\")):\n",
    "    if not year_folder.is_dir():\n",
    "        continue\n",
    "    archivos = sorted(year_folder.glob(\"hycom_*.nc\"))\n",
    "    for archivo in archivos:\n",
    "        ds = xr.open_dataset(archivo)\n",
    "        if \"time\" not in ds:\n",
    "            continue\n",
    "        if ds[\"lon\"].max() > 180:\n",
    "            ds[\"lon\"] = xr.where(ds[\"lon\"] > 180, ds[\"lon\"] - 360, ds[\"lon\"])\n",
    "            ds = ds.sortby(\"lon\")\n",
    "        ds = ds.rename({\"lon\": \"x\", \"lat\": \"y\"})\n",
    "        ds = ds.rio.write_crs(\"EPSG:4326\")\n",
    "        ds_crop = ds.rio.clip(gdf_peru.geometry, gdf_peru.crs)\n",
    "        ds_crop = ds_crop.sortby(\"time\")\n",
    "        ds_diario = ds_crop.resample(time=\"1D\").mean()\n",
    "        for _, row in gdf_peru.iterrows():\n",
    "            dpto = row[\"DPTO\"]\n",
    "            region = row[\"region_macro\"]\n",
    "            geom = gpd.GeoDataFrame(index=[0], geometry=[row.geometry], crs=gdf_peru.crs)\n",
    "            sub_ds = ds_diario.rio.clip(geom.geometry, geom.crs)\n",
    "            temp = sub_ds[\"water_temp\"].mean(dim=[\"y\", \"x\"], skipna=True)\n",
    "            salt = sub_ds[\"salinity\"].mean(dim=[\"y\", \"x\"], skipna=True)\n",
    "            df_temp = temp.to_dataframe(name=\"temperatura\").reset_index()\n",
    "            df_salt = salt.to_dataframe(name=\"salinidad\").reset_index()\n",
    "            df_merge = pd.merge(df_temp, df_salt, on=\"time\", how=\"outer\")\n",
    "            df_merge[\"DPTO\"] = dpto\n",
    "            df_merge[\"region_macro\"] = region\n",
    "            registros.append(df_merge)\n",
    "\n",
    "df_final = pd.concat(registros, ignore_index=True)\n",
    "df_final = df_final.rename(columns={\"time\": \"fecha\"})"
   ]
  },
  {
   "cell_type": "code",
   "execution_count": 5,
   "id": "928bd6eb",
   "metadata": {},
   "outputs": [],
   "source": [
    "df_final = df_final[[\"fecha\", \"temperatura\", \"salinidad\", \"DPTO\", \"region_macro\"]]"
   ]
  },
  {
   "cell_type": "code",
   "execution_count": null,
   "id": "979d6b10",
   "metadata": {},
   "outputs": [],
   "source": []
  },
  {
   "cell_type": "code",
   "execution_count": null,
   "id": "db1cfa91",
   "metadata": {},
   "outputs": [],
   "source": [
    "df_final = df_final.copy()\n",
    "df_final.loc[:, \"anio\"] = pd.to_datetime(df_final[\"fecha\"]).dt.year\n",
    "df_final.loc[:, \"dia_juliano\"] = pd.to_datetime(df_final[\"fecha\"]).dt.dayofyear\n",
    "\n",
    "clim = (\n",
    "    df_final.groupby([\"region_macro\", \"dia_juliano\"])[[\"temperatura\", \"salinidad\"]]\n",
    "    .mean()\n",
    "    .rename(columns={\"temperatura\": \"temp_clim\", \"salinidad\": \"sal_clim\"})\n",
    "    .reset_index()\n",
    ")\n",
    "\n",
    "df_final = df_final.merge(clim, on=[\"region_macro\", \"dia_juliano\"], how=\"left\")\n",
    "\n",
    "df_final.loc[:, \"anom_temp\"] = df_final[\"temperatura\"] - df_final[\"temp_clim\"]\n",
    "df_final.loc[:, \"anom_sal\"] = df_final[\"salinidad\"] - df_final[\"sal_clim\"]\n",
    "df_final.loc[:, \"anom_sal_ref35\"] = df_final[\"salinidad\"] - 35.1\n"
   ]
  },
  {
   "cell_type": "code",
   "execution_count": null,
   "id": "5b9973c8",
   "metadata": {},
   "outputs": [],
   "source": []
  },
  {
   "cell_type": "code",
   "execution_count": 9,
   "id": "6f6da6ca",
   "metadata": {},
   "outputs": [],
   "source": [
    "output_path = Path(\"/home/jupyter-daniela/suyana/peru_production/outputs/\")\n",
    "\n",
    "df_final.to_csv(output_path / \"salinity_temperature_peru_daily.csv\", index=False)"
   ]
  }
 ],
 "metadata": {
  "kernelspec": {
   "display_name": "peru_environment",
   "language": "python",
   "name": "python3"
  },
  "language_info": {
   "codemirror_mode": {
    "name": "ipython",
    "version": 3
   },
   "file_extension": ".py",
   "mimetype": "text/x-python",
   "name": "python",
   "nbconvert_exporter": "python",
   "pygments_lexer": "ipython3",
   "version": "3.13.7"
  }
 },
 "nbformat": 4,
 "nbformat_minor": 5
}
