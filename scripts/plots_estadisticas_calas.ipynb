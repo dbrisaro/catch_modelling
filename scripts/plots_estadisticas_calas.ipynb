{
 "cells": [
  {
   "cell_type": "code",
   "execution_count": null,
   "id": "90252eb4",
   "metadata": {},
   "outputs": [],
   "source": [
    "df_stats.to_csv(\"/home/jupyter-daniela/suyana/peru_production/outputs/calas_estadisticas.csv\", index=False)"
   ]
  }
 ],
 "metadata": {
  "language_info": {
   "name": "python"
  }
 },
 "nbformat": 4,
 "nbformat_minor": 5
}
