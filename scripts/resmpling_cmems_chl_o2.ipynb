{
 "cells": [
  {
   "cell_type": "code",
   "execution_count": 1,
   "id": "eb68e24e",
   "metadata": {},
   "outputs": [],
   "source": [
    "import xarray as xr\n",
    "import pandas as pd\n",
    "import numpy as np\n",
    "import re\n",
    "from pathlib import Path\n",
    "\n",
    "\n",
    "def first_file_meta(var):\n",
    "    f = sorted(base.glob(f\"cmems_{var}_daily_*.nc\"))[0]\n",
    "    m = re.match(rf\"cmems_{var}_daily_(\\d{{4}})_(.+)_(\\d+(?:\\.\\d+)?deg)\\.nc\", f.name)\n",
    "    area = m.group(2)\n",
    "    res = m.group(3)\n",
    "    return area, res\n",
    "\n",
    "def open_unified(var):\n",
    "    files = sorted(base.glob(f\"cmems_{var}_daily_*.nc\"))\n",
    "    ds = xr.open_mfdataset(files, combine=\"by_coords\")\n",
    "    return ds\n",
    "\n",
    "def drop_feb29_index(time_index):\n",
    "    is_feb29 = (time_index.month == 2) & (time_index.day == 29)\n",
    "    return time_index[~is_feb29]\n",
    "\n",
    "def add_doy_noleap(ds):\n",
    "    t = pd.DatetimeIndex(ds.time.values)\n",
    "    mask = (t.month == 2) & (t.day == 29)\n",
    "    t2 = t.copy()\n",
    "    t2 = t2[~mask]\n",
    "    ds2 = ds.sel(time=~mask)\n",
    "    doy = pd.Index(t2.dayofyear)\n",
    "    doy = doy.where(doy < 60, doy - 1)\n",
    "    ds2 = ds2.assign_coords(doy=(\"time\", doy.values))\n",
    "    return ds2\n",
    "\n",
    "def weekly_from_jan1(ds):\n",
    "    t = pd.DatetimeIndex(ds.time.values)\n",
    "    df = pd.DataFrame({\"time\": t, \"year\": t.year, \"doy\": t.dayofyear})\n",
    "    mask = (df[\"time\"].dt.month == 2) & (df[\"time\"].dt.day == 29)\n",
    "    df = df.loc[~mask].copy()\n",
    "    df[\"doy_noleap\"] = np.where(df[\"doy\"] < 60, df[\"doy\"], df[\"doy\"] - 1)\n",
    "    df[\"week_idx\"] = ((df[\"doy_noleap\"] - 1) // 7) + 1\n",
    "    df[\"week_label\"] = df[\"year\"].astype(str) + \"-\" + df[\"week_idx\"].astype(str).str.zfill(2)\n",
    "    lab = xr.DataArray(df[\"week_label\"].values, coords={\"time\": ds.time.values[~mask.values]}, dims=(\"time\",))\n",
    "    ds2 = ds.sel(time=~mask.values)\n",
    "    grp = ds2.groupby(lab)\n",
    "    wmean = grp.mean(\"time\", skipna=True)\n",
    "    wtime = grp.map(lambda x: x.time.max())\n",
    "    wmean = wmean.assign_coords(time=(\"week_label\", wtime.values))\n",
    "    wmean = wmean.swap_dims({\"week_label\": \"time\"}).sortby(\"time\")\n",
    "    wmean = wmean.assign_coords(week_in_year=((wmean[\"time\"].dt.dayofyear - 1) // 7) + 1, year=wmean[\"time\"].dt.year)\n",
    "    return wmean\n",
    "\n",
    "def daily_climatology(ds):\n",
    "    ds_nl = add_doy_noleap(ds)\n",
    "    clim = ds_nl.groupby(\"doy\").mean(\"time\", skipna=True)\n",
    "    return clim\n",
    "\n",
    "def daily_anomalies(ds):\n",
    "    ds_nl = add_doy_noleap(ds)\n",
    "    clim = ds_nl.groupby(\"doy\").mean(\"time\", skipna=True)\n",
    "    anom = ds_nl.groupby(\"doy\") - clim\n",
    "    return anom\n",
    "\n",
    "def weekly_climatology(ds_weekly):\n",
    "    clim = ds_weekly.groupby(\"week_in_year\").mean(\"time\", skipna=True)\n",
    "    return clim\n",
    "\n",
    "def weekly_anomalies(ds_weekly):\n",
    "    clim = weekly_climatology(ds_weekly)\n",
    "    anom = ds_weekly.groupby(\"week_in_year\") - clim\n",
    "    return anom\n",
    "\n",
    "def period_from_time(ds):\n",
    "    t = pd.DatetimeIndex(ds.time.values)\n",
    "    return f\"{t.min().year}-{t.max().year}\"\n",
    "\n"
   ]
  },
  {
   "cell_type": "code",
   "execution_count": 2,
   "id": "7f0a4691",
   "metadata": {},
   "outputs": [
    {
     "name": "stderr",
     "output_type": "stream",
     "text": [
      "/tmp/ipykernel_2553599/107238013.py:17: FutureWarning: In a future version of xarray the default value for join will change from join='outer' to join='exact'. This change will result in the following ValueError: cannot be aligned with join='exact' because index/labels/sizes are not equal along these coordinates (dimensions): 'depth' ('depth',) The recommendation is to set join explicitly for this case.\n",
      "  ds = xr.open_mfdataset(files, combine=\"by_coords\")\n"
     ]
    },
    {
     "ename": "",
     "evalue": "",
     "output_type": "error",
     "traceback": [
      "\u001b[1;31mThe Kernel crashed while executing code in the current cell or a previous cell. \n",
      "\u001b[1;31mPlease review the code in the cell(s) to identify a possible cause of the failure. \n",
      "\u001b[1;31mClick <a href='https://aka.ms/vscodeJupyterKernelCrash'>here</a> for more info. \n",
      "\u001b[1;31mView Jupyter <a href='command:jupyter.viewOutput'>log</a> for further details."
     ]
    }
   ],
   "source": [
    "\n",
    "base = Path(\"/home/jupyter-daniela/suyana/sources/biogeochem/mercator\")\n",
    "outpath = Path(\"/home/jupyter-daniela/suyana/peru_production/features/\")\n",
    "dataset_name = \"cmems\"\n",
    "\n",
    "for var in [\"chl\", \"o2\"]:\n",
    "    area, res = first_file_meta(var)\n",
    "    ds = open_unified(var)\n",
    "    per = period_from_time(ds)\n",
    "    (outpath / f\"{dataset_name}_{var}_daily_{per}_{area}_{res}.nc\").write_bytes(b\"\")\n",
    "    ds.to_netcdf(outpath / f\"{dataset_name}_{var}_daily_{per}_{area}_{res}.nc\")\n",
    "    ds_daily_anom = daily_anomalies(ds)\n",
    "    ds_daily_anom.to_netcdf(outpath / f\"{dataset_name}_{var}_daily-anom_{per}_{area}_{res}.nc\")\n",
    "    ds_weekly = weekly_from_jan1(ds)\n",
    "    ds_weekly.to_netcdf(outpath / f\"{dataset_name}_{var}_weekly_{per}_{area}_{res}.nc\")\n",
    "    ds_weekly_anom = weekly_anomalies(ds_weekly)\n",
    "    ds_weekly_anom.to_netcdf(outpath / f\"{dataset_name}_{var}_weekly-anom_{per}_{area}_{res}.nc\")"
   ]
  }
 ],
 "metadata": {
  "kernelspec": {
   "display_name": "peru_environment",
   "language": "python",
   "name": "python3"
  },
  "language_info": {
   "codemirror_mode": {
    "name": "ipython",
    "version": 3
   },
   "file_extension": ".py",
   "mimetype": "text/x-python",
   "name": "python",
   "nbconvert_exporter": "python",
   "pygments_lexer": "ipython3",
   "version": "3.13.7"
  }
 },
 "nbformat": 4,
 "nbformat_minor": 5
}
